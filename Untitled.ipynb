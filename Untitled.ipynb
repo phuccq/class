{
 "cells": [
  {
   "cell_type": "code",
   "execution_count": 1,
   "id": "f6ee6c4f",
   "metadata": {},
   "outputs": [
    {
     "ename": "AttributeError",
     "evalue": "module 'threading' has no attribute 'timer'",
     "output_type": "error",
     "traceback": [
      "\u001b[1;31m---------------------------------------------------------------------------\u001b[0m",
      "\u001b[1;31mAttributeError\u001b[0m                            Traceback (most recent call last)",
      "Input \u001b[1;32mIn [1]\u001b[0m, in \u001b[0;36m<cell line: 8>\u001b[1;34m()\u001b[0m\n\u001b[0;32m      7\u001b[0m t \u001b[38;5;241m=\u001b[39m turtle\u001b[38;5;241m.\u001b[39mTurtle()\n\u001b[0;32m      8\u001b[0m \u001b[38;5;28;01mfor\u001b[39;00m i \u001b[38;5;129;01min\u001b[39;00m \u001b[38;5;28mrange\u001b[39m(\u001b[38;5;241m10\u001b[39m):\n\u001b[1;32m----> 9\u001b[0m     \u001b[43mthreading\u001b[49m\u001b[38;5;241;43m.\u001b[39;49m\u001b[43mtimer\u001b[49m(\u001b[38;5;241m0.5\u001b[39m,turtle\u001b[38;5;241m.\u001b[39mupdate())\u001b[38;5;241m.\u001b[39mcancel()\n\u001b[0;32m     10\u001b[0m     t\u001b[38;5;241m.\u001b[39mgoto(\u001b[38;5;241m0\u001b[39m,\u001b[38;5;241m0\u001b[39m)\n\u001b[0;32m     11\u001b[0m     t\u001b[38;5;241m.\u001b[39msetheading(\u001b[38;5;241m90\u001b[39m)\n",
      "\u001b[1;31mAttributeError\u001b[0m: module 'threading' has no attribute 'timer'"
     ]
    }
   ],
   "source": [
    "import turtle\n",
    "import datetime\n",
    "import threading\n",
    "\n",
    "turtle.tracer(0,0)\n",
    "goc = 0\n",
    "t = turtle.Turtle()\n",
    "for i in range(10):\n",
    "    threading.timer(0.5,turtle.update()).cancel()\n",
    "    t.goto(0,0)\n",
    "    t.setheading(90)\n",
    "    t.right(goc)\n",
    "    t.forward(100)    \n",
    "    goc += 30\n",
    "    threading.timer(0.5,turtle.update()).start()\n",
    "turtle.done()   \n",
    "# hour = datetime.datetime.now().hour\n",
    "# minute = datetime.datetime.now().minute\n",
    "# second = datetime.datetime.now().second\n"
   ]
  },
  {
   "cell_type": "code",
   "execution_count": null,
   "id": "6ab6fff5",
   "metadata": {},
   "outputs": [],
   "source": []
  }
 ],
 "metadata": {
  "kernelspec": {
   "display_name": "Python 3 (ipykernel)",
   "language": "python",
   "name": "python3"
  },
  "language_info": {
   "codemirror_mode": {
    "name": "ipython",
    "version": 3
   },
   "file_extension": ".py",
   "mimetype": "text/x-python",
   "name": "python",
   "nbconvert_exporter": "python",
   "pygments_lexer": "ipython3",
   "version": "3.9.12"
  }
 },
 "nbformat": 4,
 "nbformat_minor": 5
}
