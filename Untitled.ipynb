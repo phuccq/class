{
 "cells": [
  {
   "cell_type": "code",
   "execution_count": 1,
   "id": "f6ee6c4f",
   "metadata": {},
   "outputs": [
    {
     "ename": "TypeError",
     "evalue": "unhashable type: 'dict'",
     "output_type": "error",
     "traceback": [
      "\u001b[1;31m---------------------------------------------------------------------------\u001b[0m",
      "\u001b[1;31mTypeError\u001b[0m                                 Traceback (most recent call last)",
      "Input \u001b[1;32mIn [1]\u001b[0m, in \u001b[0;36m<cell line: 20>\u001b[1;34m()\u001b[0m\n\u001b[0;32m     18\u001b[0m minute \u001b[38;5;241m=\u001b[39m datetime\u001b[38;5;241m.\u001b[39mdatetime\u001b[38;5;241m.\u001b[39mnow()\u001b[38;5;241m.\u001b[39mminute\n\u001b[0;32m     19\u001b[0m second \u001b[38;5;241m=\u001b[39m datetime\u001b[38;5;241m.\u001b[39mdatetime\u001b[38;5;241m.\u001b[39mnow()\u001b[38;5;241m.\u001b[39msecond\n\u001b[1;32m---> 20\u001b[0m \u001b[43mclock_hands\u001b[49m\u001b[43m(\u001b[49m\u001b[43mhour\u001b[49m\u001b[43m,\u001b[49m\u001b[43mminute\u001b[49m\u001b[43m,\u001b[49m\u001b[43msecond\u001b[49m\u001b[43m)\u001b[49m\n",
      "Input \u001b[1;32mIn [1]\u001b[0m, in \u001b[0;36mclock_hands\u001b[1;34m(hour, minute, second)\u001b[0m\n\u001b[0;32m     11\u001b[0m t\u001b[38;5;241m.\u001b[39msetheading(\u001b[38;5;241m90\u001b[39m)\n\u001b[0;32m     12\u001b[0m \u001b[38;5;28;01mfor\u001b[39;00m hand \u001b[38;5;129;01min\u001b[39;00m hands\u001b[38;5;241m.\u001b[39mitems():\n\u001b[1;32m---> 13\u001b[0m     t\u001b[38;5;241m.\u001b[39mright(\u001b[43mhands\u001b[49m\u001b[43m[\u001b[49m\u001b[43mhand\u001b[49m\u001b[43m]\u001b[49m[\u001b[38;5;124m'\u001b[39m\u001b[38;5;124mx\u001b[39m\u001b[38;5;124m'\u001b[39m])\n\u001b[0;32m     14\u001b[0m     t\u001b[38;5;241m.\u001b[39mcolor(hands[hand][\u001b[38;5;124m'\u001b[39m\u001b[38;5;124mcolor\u001b[39m\u001b[38;5;124m'\u001b[39m])\n\u001b[0;32m     15\u001b[0m     t\u001b[38;5;241m.\u001b[39mforward(hands[hand][\u001b[38;5;124m'\u001b[39m\u001b[38;5;124mlong\u001b[39m\u001b[38;5;124m'\u001b[39m])\n",
      "\u001b[1;31mTypeError\u001b[0m: unhashable type: 'dict'"
     ]
    }
   ],
   "source": [
    "import turtle\n",
    "import datetime\n",
    "t = turtle.Turtle()\n",
    "def clock_hands(hour,minute,second):\n",
    "        hands = {\n",
    "            'hour_hand':{'x':hour,'color':'black','long':50},\n",
    "            'minite_hand':{'x':minute,'color':'black','long':60},\n",
    "            'second_hand':{'x':second,'color':'red','long':70}\n",
    "        }\n",
    "        t.goto(0,0)\n",
    "        t.setheading(90)\n",
    "        for hand in hands.items():\n",
    "            t.right(hands[hand]['x'])\n",
    "            t.color(hands[hand]['color'])\n",
    "            t.forward(hands[hand]['long'])  \n",
    "            \n",
    "hour = datetime.datetime.now().hour\n",
    "minute = datetime.datetime.now().minute\n",
    "second = datetime.datetime.now().second\n",
    "clock_hands(hour,minute,second)"
   ]
  },
  {
   "cell_type": "code",
   "execution_count": null,
   "id": "6ab6fff5",
   "metadata": {},
   "outputs": [],
   "source": []
  }
 ],
 "metadata": {
  "kernelspec": {
   "display_name": "Python 3 (ipykernel)",
   "language": "python",
   "name": "python3"
  },
  "language_info": {
   "codemirror_mode": {
    "name": "ipython",
    "version": 3
   },
   "file_extension": ".py",
   "mimetype": "text/x-python",
   "name": "python",
   "nbconvert_exporter": "python",
   "pygments_lexer": "ipython3",
   "version": "3.9.12"
  }
 },
 "nbformat": 4,
 "nbformat_minor": 5
}
