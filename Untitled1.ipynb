{
 "cells": [
  {
   "cell_type": "code",
   "execution_count": 18,
   "id": "e40ba90f",
   "metadata": {},
   "outputs": [
    {
     "ename": "TypeError",
     "evalue": "list indices must be integers or slices, not Student",
     "output_type": "error",
     "traceback": [
      "\u001b[1;31m---------------------------------------------------------------------------\u001b[0m",
      "\u001b[1;31mTypeError\u001b[0m                                 Traceback (most recent call last)",
      "Input \u001b[1;32mIn [18]\u001b[0m, in \u001b[0;36m<cell line: 14>\u001b[1;34m()\u001b[0m\n\u001b[0;32m     12\u001b[0m students\u001b[38;5;241m.\u001b[39mappend(student1)\n\u001b[0;32m     13\u001b[0m students\u001b[38;5;241m.\u001b[39mappend(student2)\n\u001b[1;32m---> 14\u001b[0m \u001b[38;5;28mprint\u001b[39m(\u001b[43mstudents\u001b[49m\u001b[43m[\u001b[49m\u001b[43mstudent\u001b[49m\u001b[43m]\u001b[49m)\n",
      "\u001b[1;31mTypeError\u001b[0m: list indices must be integers or slices, not Student"
     ]
    }
   ],
   "source": [
    "class Student:\n",
    "    def __init__(self,stu_id,name,age):\n",
    "        self.stu_id = stu_id\n",
    "        self.name = name\n",
    "        self.age = age\n",
    "        \n",
    "\n",
    "student1 = Student('s01','phuc','28')\n",
    "student2 = Student('s02','nam','29')\n",
    "\n",
    "students = []\n",
    "students.append(student1)\n",
    "students.append(student2)\n",
    "print(students[student])"
   ]
  },
  {
   "cell_type": "code",
   "execution_count": null,
   "id": "41f5a17f",
   "metadata": {},
   "outputs": [],
   "source": []
  }
 ],
 "metadata": {
  "kernelspec": {
   "display_name": "Python 3 (ipykernel)",
   "language": "python",
   "name": "python3"
  },
  "language_info": {
   "codemirror_mode": {
    "name": "ipython",
    "version": 3
   },
   "file_extension": ".py",
   "mimetype": "text/x-python",
   "name": "python",
   "nbconvert_exporter": "python",
   "pygments_lexer": "ipython3",
   "version": "3.9.12"
  }
 },
 "nbformat": 4,
 "nbformat_minor": 5
}
