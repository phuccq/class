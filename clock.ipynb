{
 "cells": [
  {
   "cell_type": "code",
   "execution_count": null,
   "id": "0c612d4f",
   "metadata": {},
   "outputs": [],
   "source": [
    "import turtle\n",
    "import datetime\n",
    "\n",
    "t = turtle.Turtle()\n",
    "t.hideturtle()\n",
    "\n",
    "class Clock:    \n",
    "    def __init__(self,hour,minute,second):\n",
    "        self.hour = hour\n",
    "        self.minute = minute\n",
    "        self.second = second\n",
    "    def surface(self):\n",
    "        t.speed(0)\n",
    "        t.penup()\n",
    "        t.goto(0,-100)\n",
    "        t.pendown()\n",
    "        t.circle(100)\n",
    "        t.penup()\n",
    "        t.goto(0,0)  \n",
    "        t.right(90)                \n",
    "        for i in range(60):\n",
    "            t.goto(0,0)  \n",
    "            t.forward(90)\n",
    "            t.pendown()\n",
    "            if i%5 == 0:\n",
    "                t.backward(10)\n",
    "            else:\n",
    "                t.backward(5)                \n",
    "            t.left(6)\n",
    "            t.penup()\n",
    "    def clock_hands(self):\n",
    "        hands = {\n",
    "            'hour_hand':{'x':self.hour,'color':'black','long':50},\n",
    "            'minite_hand':{'x':self.minute,'color':'black','long':60},\n",
    "            'second_hand':{'x':self.second,'color':'red','long':70}\n",
    "        }\n",
    "        t.goto(0,0)\n",
    "        t.setheading(90)\n",
    "        for hand in hands.items():\n",
    "            t.right(hands[hand]['x'])\n",
    "            t.color(hands[hand]['color'])\n",
    "            t.forward(hands[hand]['long'])        \n",
    "  \n",
    "hour = datetime.datetime.now().hour\n",
    "minute = datetime.datetime.now().minute\n",
    "second = datetime.datetime.now().second\n",
    "\n",
    "clock = Clock(hour,minute,second)\n",
    "clock.surface()\n",
    "clock.clock_hands\n",
    "\n",
    "turtle.done()\n"
   ]
  }
 ],
 "metadata": {
  "kernelspec": {
   "display_name": "Python 3 (ipykernel)",
   "language": "python",
   "name": "python3"
  },
  "language_info": {
   "codemirror_mode": {
    "name": "ipython",
    "version": 3
   },
   "file_extension": ".py",
   "mimetype": "text/x-python",
   "name": "python",
   "nbconvert_exporter": "python",
   "pygments_lexer": "ipython3",
   "version": "3.9.12"
  }
 },
 "nbformat": 4,
 "nbformat_minor": 5
}
