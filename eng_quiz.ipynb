{
 "cells": [
  {
   "cell_type": "code",
   "execution_count": 2,
   "id": "23c660e2",
   "metadata": {},
   "outputs": [
    {
     "name": "stdout",
     "output_type": "stream",
     "text": [
      "Con ong in english is: bee\n",
      "Correct!\n",
      "Continue? y/n: a\n",
      "Invalid choice!\n",
      "Continue? y/n: y\n",
      "Con ong in english is: bee\n",
      "Correct!\n",
      "Continue? y/n: n\n",
      "goodbye!\n"
     ]
    }
   ],
   "source": [
    "import random\n",
    "class flashcard:\n",
    "    animals = {'Con ong': 'bee',\n",
    "                'Con thỏ': 'rabbit',\n",
    "                'Con cua': 'crab',\n",
    "                'Con mèo': 'cat',\n",
    "                'Con ngựa': 'horse',\n",
    "                'Con khỉ': 'monkey',\n",
    "                'Con lừa': 'donkey'}\n",
    "    def __init__(self):\n",
    "        animals = self.animals\n",
    "    def quiz(self):\n",
    "        run = True\n",
    "        while run:\n",
    "            vni, eng = random.choice(list(self.animals.items()))\n",
    "            answer = input(f\"{vni} in english is: \")\n",
    "            if answer.lower() == eng:\n",
    "                print(\"Correct!\")\n",
    "            else:\n",
    "                print(\"Incorrect!\")\n",
    "            while True:\n",
    "                run = input(\"Continue? y/n: \")\n",
    "                if run.lower() == \"n\":\n",
    "                    print(\"goodbye!\")\n",
    "                    run = False\n",
    "                    break\n",
    "                elif run.lower() != \"y\":\n",
    "                    print(\"Invalid choice!\")\n",
    "                else:\n",
    "                    break\n",
    "            \n",
    "animal = flashcard()\n",
    "animal.quiz()\n"
   ]
  },
  {
   "cell_type": "code",
   "execution_count": null,
   "id": "f3a91f6d",
   "metadata": {},
   "outputs": [],
   "source": [
    "# class flashcard:\n",
    "#     def __init__(self):\n",
    "\n",
    "#         self.animals = {'Con ong': 'bee',\n",
    "#                         'Con thỏ': 'rabbit',\n",
    "#                         'Con cua': 'crab',\n",
    "#                         'Con mèo': 'cat',\n",
    "#                         'Con ngựa': 'horse',\n",
    "#                         'Con khỉ': 'monkey',\n",
    "#                         'Con lừa': 'donkey'}\n",
    "#     def quiz(self):\n",
    "#         while True:\n",
    "\n",
    "#             vietnamese, english = random.choice(list(self.animals.items()))\n",
    "\n",
    "#             print(\"Tiếng Anh của '{}' là: \".format(vietnamese))\n",
    "#             user_answer = input()\n",
    "\n",
    "#             if user_answer.lower() == english:\n",
    "#                 print(\"Đúng\")\n",
    "#             else:\n",
    "#                 print(\"Sai\")\n",
    "#             option = int(input(\"Nhập 0 để tiếp tục : \"))\n",
    "#             if option:\n",
    "#                 break\n",
    "#         print(\"Kết thúc\")\n",
    "    \n",
    "# fc = flashcard()\n",
    "# fc.quiz()"
   ]
  },
  {
   "cell_type": "code",
   "execution_count": null,
   "id": "b13acf96",
   "metadata": {},
   "outputs": [],
   "source": []
  }
 ],
 "metadata": {
  "kernelspec": {
   "display_name": "Python 3 (ipykernel)",
   "language": "python",
   "name": "python3"
  },
  "language_info": {
   "codemirror_mode": {
    "name": "ipython",
    "version": 3
   },
   "file_extension": ".py",
   "mimetype": "text/x-python",
   "name": "python",
   "nbconvert_exporter": "python",
   "pygments_lexer": "ipython3",
   "version": "3.9.12"
  }
 },
 "nbformat": 4,
 "nbformat_minor": 5
}
